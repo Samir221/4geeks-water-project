{
 "cells": [
  {
   "cell_type": "markdown",
   "metadata": {},
   "source": [
    "## 4Geeks Water Analytics Project"
   ]
  },
  {
   "cell_type": "code",
   "execution_count": 20,
   "metadata": {},
   "outputs": [],
   "source": [
    "# Import dependencies\n",
    "import pandas as pd\n",
    "from statsmodels.tsa.stattools import adfuller\n",
    "from pmdarima import auto_arima\n",
    "from statsmodels.tsa.api import VAR\n",
    "from sklearn.metrics import mean_squared_error"
   ]
  },
  {
   "cell_type": "code",
   "execution_count": 7,
   "metadata": {},
   "outputs": [],
   "source": [
    "# Import datasets\n",
    "aquifer_auser_df = pd.read_csv(\"./data/Aquifer_Auser.csv\")\n",
    "aquifer_petrignano_df = pd.read_csv(\"./data/Aquifer_Petrignano.csv\")\n",
    "aquifer_doganella_df = pd.read_csv(\"./data/Aquifer_Doganella.csv\")\n",
    "aquifer_luco_df = pd.read_csv(\"./data/Aquifer_Luco.csv\")"
   ]
  },
  {
   "cell_type": "code",
   "execution_count": 8,
   "metadata": {},
   "outputs": [],
   "source": [
    "# Set the option to display all rows\n",
    "pd.set_option('display.max_columns', None)"
   ]
  },
  {
   "cell_type": "code",
   "execution_count": 9,
   "metadata": {},
   "outputs": [],
   "source": [
    "# Data Cleaning\n",
    "\n",
    "# Drop any rows with NaN\n",
    "aquifer_auser_df = aquifer_auser_df.dropna()\n",
    "aquifer_petrignano_df = aquifer_petrignano_df.dropna()\n",
    "aquifer_doganella_df = aquifer_doganella_df.dropna()\n",
    "aquifer_luco_df = aquifer_luco_df.dropna()\n",
    "\n",
    "# Reset Indexes\n",
    "aquifer_auser_df = aquifer_auser_df.reset_index(drop=True)\n",
    "aquifer_petrignano_df = aquifer_petrignano_df.reset_index(drop=True)\n",
    "aquifer_doganella_df = aquifer_doganella_df.reset_index(drop=True)\n",
    "aquifer_luco_df = aquifer_luco_df.reset_index(drop=True)\n",
    "\n",
    "# Set the 'Date' column as the index of the DataFrames\n",
    "aquifer_auser_df = aquifer_auser_df.set_index('Date')\n",
    "aquifer_petrignano_df= aquifer_petrignano_df.set_index('Date')\n",
    "aquifer_doganella_df = aquifer_doganella_df.set_index('Date')\n",
    "aquifer_luco_df = aquifer_luco_df.set_index('Date')"
   ]
  },
  {
   "cell_type": "code",
   "execution_count": 15,
   "metadata": {},
   "outputs": [],
   "source": [
    "# Split the datasets into train and test sets\n",
    "\n",
    "def train_test_split(data, n=10):\n",
    "    \"\"\"Splits the data into train and test sets, with the last n rows as the test set.\"\"\"\n",
    "    train = data.iloc[:-n]  # All rows except the last n rows\n",
    "    test = data.iloc[-n:]   # The last n rows\n",
    "    return train, test\n",
    "\n",
    "\n",
    "# Splitting each dataset\n",
    "aquifer_auser_train_df, aquifer_auser_test_df = train_test_split(aquifer_auser_df)\n",
    "aquifer_petrignano_train_df, aquifer_petrignano_test_df = train_test_split(aquifer_petrignano_df)\n",
    "aquifer_doganella_train_df, aquifer_doganella_test_df = train_test_split(aquifer_doganella_df)\n",
    "aquifer_luco_train_df, aquifer_luco_test_df = train_test_split(aquifer_luco_df)"
   ]
  },
  {
   "cell_type": "code",
   "execution_count": 18,
   "metadata": {},
   "outputs": [
    {
     "name": "stderr",
     "output_type": "stream",
     "text": [
      "/home/codespace/.python/current/lib/python3.10/site-packages/statsmodels/tsa/base/tsa_model.py:559: UserWarning: Parsing dates in %d/%m/%Y format when dayfirst=False (the default) was specified. Pass `dayfirst=True` or specify a format to silence this warning.\n",
      "  _index = to_datetime(index)\n",
      "/home/codespace/.python/current/lib/python3.10/site-packages/statsmodels/tsa/base/tsa_model.py:473: ValueWarning: A date index has been provided, but it has no associated frequency information and so will be ignored when e.g. forecasting.\n",
      "  self._init_dates(dates, freq)\n"
     ]
    },
    {
     "name": "stdout",
     "output_type": "stream",
     "text": [
      "            Depth_to_Groundwater_SAL  Depth_to_Groundwater_CoS  \\\n",
      "2020-06-20                 -5.341536                 -6.331577   \n",
      "2020-06-21                 -5.573894                 -5.689308   \n",
      "2020-06-22                 -4.033962                 -4.126749   \n",
      "2020-06-23                 -5.715087                 -6.340886   \n",
      "2020-06-24                 -7.497582                 -7.874013   \n",
      "2020-06-25                 -4.863581                 -4.082048   \n",
      "2020-06-26                 -4.620977                 -4.752809   \n",
      "2020-06-27                 -5.673401                 -5.724208   \n",
      "2020-06-28                 -5.070341                 -5.517067   \n",
      "2020-06-29                 -6.381386                 -5.765203   \n",
      "\n",
      "            Depth_to_Groundwater_LT2  \n",
      "2020-06-20                -15.504651  \n",
      "2020-06-21                -13.534632  \n",
      "2020-06-22                -10.974251  \n",
      "2020-06-23                -11.305584  \n",
      "2020-06-24                -12.986009  \n",
      "2020-06-25                -13.696100  \n",
      "2020-06-26                -11.881975  \n",
      "2020-06-27                -11.592646  \n",
      "2020-06-28                -12.125346  \n",
      "2020-06-29                -11.730219  \n"
     ]
    }
   ],
   "source": [
    "# AQUIFER AUSER\n",
    "\n",
    "# 1. Train the VAR model on the entire DataFrame\n",
    "aquifer_auser_model = VAR(aquifer_auser_df)\n",
    "aquifer_auser_model_fitted = aquifer_auser_model.fit(maxlags=15, ic='aic')  # Example: using AIC to select optimal lag\n",
    "\n",
    "# 2. Use the last 'lag_order' observations from the entire DataFrame for forecasting\n",
    "aquifer_auser_lag_order = aquifer_auser_model_fitted.k_ar\n",
    "aquifer_auser_last_obs = aquifer_auser_df.values[-aquifer_auser_lag_order:]\n",
    "\n",
    "# Forecast the next 10 steps using the entire dataset\n",
    "aquifer_auser_forecast = aquifer_auser_model_fitted.forecast(aquifer_auser_last_obs, steps=10)\n",
    "\n",
    "# 3. Generate the forecast index\n",
    "aquifer_auser_forecast_index = pd.date_range(start=aquifer_auser_train_df.index[-1], periods=10, freq='D')\n",
    "\n",
    "# Convert the forecast to a DataFrame for easier interpretation\n",
    "aquifer_auser_forecast_df = pd.DataFrame(aquifer_auser_forecast, index=aquifer_auser_forecast_index, columns=aquifer_auser_train_df.columns)\n",
    "\n",
    "# Extract forecasts for the variables of interest\n",
    "aquifer_auser_predictions = aquifer_auser_forecast_df[['Depth_to_Groundwater_SAL', 'Depth_to_Groundwater_CoS', 'Depth_to_Groundwater_LT2']]\n",
    "print(aquifer_auser_predictions)"
   ]
  },
  {
   "cell_type": "code",
   "execution_count": 22,
   "metadata": {},
   "outputs": [
    {
     "name": "stdout",
     "output_type": "stream",
     "text": [
      "MSE for Depth_to_Groundwater_SAL: 3.085480717217324\n",
      "MSE for Depth_to_Groundwater_CoS: 2.6232598390371686\n",
      "MSE for Depth_to_Groundwater_LT2: 1.811274162250081\n"
     ]
    }
   ],
   "source": [
    "# EVALUATE AQUIFER AUSER MODEL\n",
    "\n",
    "# Columns of interest\n",
    "columns_of_interest = ['Depth_to_Groundwater_SAL', 'Depth_to_Groundwater_CoS', 'Depth_to_Groundwater_LT2']\n",
    "\n",
    "# Initialize an empty dictionary to store MSE for each column\n",
    "mse_scores = {}\n",
    "\n",
    "# Loop over each column of interest to calculate MSE\n",
    "for column in columns_of_interest:\n",
    "    # Extract the true values from the test set and the predicted values\n",
    "    true_values = aquifer_auser_test_df[column][:10]  # Only the first 5 values to match the forecast length\n",
    "    predicted_values = aquifer_auser_predictions[column]\n",
    "    \n",
    "    # Calculate MSE and store it in the dictionary\n",
    "    mse = mean_squared_error(true_values, predicted_values)\n",
    "    mse_scores[column] = mse\n",
    "\n",
    "# Print MSE scores\n",
    "for column, mse in mse_scores.items():\n",
    "    print(f\"MSE for {column}: {mse}\")"
   ]
  },
  {
   "cell_type": "code",
   "execution_count": 19,
   "metadata": {},
   "outputs": [
    {
     "name": "stderr",
     "output_type": "stream",
     "text": [
      "/home/codespace/.python/current/lib/python3.10/site-packages/statsmodels/tsa/base/tsa_model.py:473: ValueWarning: An unsupported index was provided and will be ignored when e.g. forecasting.\n",
      "  self._init_dates(dates, freq)\n"
     ]
    },
    {
     "name": "stdout",
     "output_type": "stream",
     "text": [
      "            Depth_to_Groundwater_P24  Depth_to_Groundwater_P25\n",
      "2020-06-20                -25.944056                -25.287684\n",
      "2020-06-21                -25.944328                -25.303637\n",
      "2020-06-22                -25.917593                -25.305391\n",
      "2020-06-23                -25.940359                -25.323843\n",
      "2020-06-24                -25.951014                -25.345301\n",
      "2020-06-25                -25.964361                -25.358629\n",
      "2020-06-26                -25.997857                -25.381939\n",
      "2020-06-27                -26.015380                -25.403068\n",
      "2020-06-28                -26.030003                -25.417891\n",
      "2020-06-29                -26.041073                -25.431660\n"
     ]
    }
   ],
   "source": [
    "# AQUIFER PETRIGNANO\n",
    "\n",
    "\n",
    "# 1. Train the VAR model on the entire DataFrame\n",
    "aquifer_petrignano_model = VAR(aquifer_petrignano_df)\n",
    "aquifer_petrignano_model_fitted = aquifer_petrignano_model.fit(maxlags=15, ic='aic')  # Example: using AIC to select optimal lag\n",
    "\n",
    "# 2. Use the last 'lag_order' observations from the entire DataFrame for forecasting\n",
    "aquifer_petrignano_lag_order = aquifer_petrignano_model_fitted.k_ar\n",
    "aquifer_petrignano_last_obs = aquifer_petrignano_df.values[-aquifer_petrignano_lag_order:]\n",
    "\n",
    "# Forecast the next 10 steps using the entire dataset\n",
    "aquifer_petrignano_forecast = aquifer_petrignano_model_fitted.forecast(aquifer_petrignano_last_obs, steps=10)\n",
    "\n",
    "# 3. Generate the forecast index\n",
    "aquifer_petrignano_forecast_index = pd.date_range(start=aquifer_petrignano_train_df.index[-1], periods=10, freq='D')\n",
    "\n",
    "# Convert the forecast to a DataFrame for easier interpretation\n",
    "aquifer_petrignano_forecast_df = pd.DataFrame(aquifer_petrignano_forecast, index=aquifer_petrignano_forecast_index, columns=aquifer_petrignano_train_df.columns)\n",
    "\n",
    "# Extract forecasts for the variables of interest\n",
    "aquifer_petrignano_predictions = aquifer_petrignano_forecast_df[['Depth_to_Groundwater_P24', 'Depth_to_Groundwater_P25']]\n",
    "print(aquifer_petrignano_predictions)"
   ]
  },
  {
   "cell_type": "code",
   "execution_count": 23,
   "metadata": {},
   "outputs": [
    {
     "name": "stdout",
     "output_type": "stream",
     "text": [
      "MSE for Depth_to_Groundwater_P24: 0.13135113285984085\n",
      "MSE for Depth_to_Groundwater_P25: 0.11172622993178923\n"
     ]
    }
   ],
   "source": [
    "# EVALUATE AQUIFER PETIGNANO MODEL\n",
    "\n",
    "# Columns of interest\n",
    "columns_of_interest = ['Depth_to_Groundwater_P24', 'Depth_to_Groundwater_P25']\n",
    "\n",
    "# Initialize an empty dictionary to store MSE for each column\n",
    "mse_scores = {}\n",
    "\n",
    "# Loop over each column of interest to calculate MSE\n",
    "for column in columns_of_interest:\n",
    "    # Extract the true values from the test set and the predicted values\n",
    "    true_values = aquifer_petrignano_test_df[column][:10]  # Only the first 5 values to match the forecast length\n",
    "    predicted_values = aquifer_petrignano_predictions[column]\n",
    "    \n",
    "    # Calculate MSE and store it in the dictionary\n",
    "    mse = mean_squared_error(true_values, predicted_values)\n",
    "    mse_scores[column] = mse\n",
    "\n",
    "# Print MSE scores\n",
    "for column, mse in mse_scores.items():\n",
    "    print(f\"MSE for {column}: {mse}\")"
   ]
  },
  {
   "cell_type": "code",
   "execution_count": 26,
   "metadata": {},
   "outputs": [
    {
     "name": "stdout",
     "output_type": "stream",
     "text": [
      "            Depth_to_Groundwater_Pozzo_1  Depth_to_Groundwater_Pozzo_2  \\\n",
      "2020-06-20                    -50.416486                   -100.354440   \n",
      "2020-06-21                    -50.982017                   -100.223708   \n",
      "2020-06-22                    -50.949044                    -99.556351   \n",
      "2020-06-23                    -50.795120                    -99.634133   \n",
      "2020-06-24                    -51.209145                    -99.774158   \n",
      "2020-06-25                    -52.033736                    -99.842102   \n",
      "2020-06-26                    -51.647550                    -99.623178   \n",
      "2020-06-27                    -51.183951                    -99.564621   \n",
      "2020-06-28                    -50.700186                    -99.607430   \n",
      "2020-06-29                    -50.396130                    -99.533367   \n",
      "\n",
      "            Depth_to_Groundwater_Pozzo_3  Depth_to_Groundwater_Pozzo_4  \\\n",
      "2020-06-20                   -102.474354                   -101.377427   \n",
      "2020-06-21                   -101.214984                   -101.315041   \n",
      "2020-06-22                   -100.455423                   -101.096734   \n",
      "2020-06-23                    -98.848711                   -100.970909   \n",
      "2020-06-24                    -97.923801                   -100.952144   \n",
      "2020-06-25                    -97.135319                   -101.075819   \n",
      "2020-06-26                    -97.765547                   -100.949765   \n",
      "2020-06-27                    -97.070570                   -100.705385   \n",
      "2020-06-28                    -96.923411                   -100.564442   \n",
      "2020-06-29                    -96.278900                   -100.661673   \n",
      "\n",
      "            Depth_to_Groundwater_Pozzo_5  Depth_to_Groundwater_Pozzo_6  \\\n",
      "2020-06-20                   -104.321022                    -99.082457   \n",
      "2020-06-21                   -104.339222                    -99.224273   \n",
      "2020-06-22                   -104.327579                    -99.285609   \n",
      "2020-06-23                   -104.323304                    -99.091317   \n",
      "2020-06-24                   -104.333261                    -99.493307   \n",
      "2020-06-25                   -104.350622                    -99.284701   \n",
      "2020-06-26                   -104.291459                    -99.062956   \n",
      "2020-06-27                   -104.255083                    -98.491198   \n",
      "2020-06-28                   -104.255612                    -99.009696   \n",
      "2020-06-29                   -104.247172                    -98.599240   \n",
      "\n",
      "            Depth_to_Groundwater_Pozzo_7  Depth_to_Groundwater_Pozzo_8  \\\n",
      "2020-06-20                    -96.475149                    -97.321480   \n",
      "2020-06-21                    -96.503827                    -97.206345   \n",
      "2020-06-22                    -96.396212                    -97.282482   \n",
      "2020-06-23                    -96.470399                    -97.253905   \n",
      "2020-06-24                    -96.320729                    -97.150791   \n",
      "2020-06-25                    -96.709816                    -97.259375   \n",
      "2020-06-26                    -96.399256                    -97.427124   \n",
      "2020-06-27                    -96.701575                    -97.347764   \n",
      "2020-06-28                    -96.364965                    -97.175325   \n",
      "2020-06-29                    -96.565412                    -97.245550   \n",
      "\n",
      "            Depth_to_Groundwater_Pozzo_9  \n",
      "2020-06-20                    -90.210188  \n",
      "2020-06-21                    -90.574723  \n",
      "2020-06-22                    -90.546990  \n",
      "2020-06-23                    -90.526144  \n",
      "2020-06-24                    -89.863447  \n",
      "2020-06-25                    -89.987578  \n",
      "2020-06-26                    -89.611655  \n",
      "2020-06-27                    -89.459393  \n",
      "2020-06-28                    -89.419155  \n",
      "2020-06-29                    -89.592629  \n"
     ]
    },
    {
     "name": "stderr",
     "output_type": "stream",
     "text": [
      "/home/codespace/.python/current/lib/python3.10/site-packages/statsmodels/tsa/base/tsa_model.py:473: ValueWarning: An unsupported index was provided and will be ignored when e.g. forecasting.\n",
      "  self._init_dates(dates, freq)\n"
     ]
    }
   ],
   "source": [
    "# AQUIFER DOGANELLA\n",
    "\n",
    "\n",
    "# 1. Train the VAR model on the entire DataFrame\n",
    "aquifer_doganella_model = VAR(aquifer_doganella_df)\n",
    "aquifer_doganella_model_fitted = aquifer_doganella_model.fit(ic='aic')  # Example: using AIC to select optimal lag\n",
    "\n",
    "# 2. Use the last 'lag_order' observations from the entire DataFrame for forecasting\n",
    "aquifer_doganella_lag_order = aquifer_doganella_model_fitted.k_ar\n",
    "aquifer_doganella_last_obs = aquifer_doganella_df.values[-aquifer_doganella_lag_order:]\n",
    "\n",
    "# Forecast the next 10 steps using the entire dataset\n",
    "aquifer_doganella_forecast = aquifer_doganella_model_fitted.forecast(aquifer_doganella_last_obs, steps=10)\n",
    "\n",
    "# 3. Generate the forecast index\n",
    "aquifer_doganella_forecast_index = pd.date_range(start=aquifer_doganella_train_df.index[-1], periods=10, freq='D')\n",
    "\n",
    "# Convert the forecast to a DataFrame for easier interpretation\n",
    "aquifer_doganella_forecast_df = pd.DataFrame(aquifer_doganella_forecast, index=aquifer_doganella_forecast_index, columns=aquifer_doganella_train_df.columns)\n",
    "\n",
    "# Extract forecasts for the variables of interest\n",
    "aquifer_doganella_predictions = aquifer_doganella_forecast_df[['Depth_to_Groundwater_Pozzo_1', 'Depth_to_Groundwater_Pozzo_2', 'Depth_to_Groundwater_Pozzo_3', 'Depth_to_Groundwater_Pozzo_4','Depth_to_Groundwater_Pozzo_5','Depth_to_Groundwater_Pozzo_6', 'Depth_to_Groundwater_Pozzo_7', 'Depth_to_Groundwater_Pozzo_8', 'Depth_to_Groundwater_Pozzo_9']]\n",
    "print(aquifer_doganella_predictions)"
   ]
  },
  {
   "cell_type": "code",
   "execution_count": 27,
   "metadata": {},
   "outputs": [
    {
     "name": "stdout",
     "output_type": "stream",
     "text": [
      "MSE for Depth_to_Groundwater_Pozzo_1: 1.0855508113644574\n",
      "MSE for Depth_to_Groundwater_Pozzo_2: 0.5577649628075025\n",
      "MSE for Depth_to_Groundwater_Pozzo_3: 9.60536439145728\n",
      "MSE for Depth_to_Groundwater_Pozzo_4: 0.395458179791409\n",
      "MSE for Depth_to_Groundwater_Pozzo_5: 0.001232688719572258\n",
      "MSE for Depth_to_Groundwater_Pozzo_6: 0.9549690923042007\n",
      "MSE for Depth_to_Groundwater_Pozzo_7: 0.07305525398805149\n",
      "MSE for Depth_to_Groundwater_Pozzo_8: 0.24463434202960443\n",
      "MSE for Depth_to_Groundwater_Pozzo_9: 0.6722268713218293\n"
     ]
    }
   ],
   "source": [
    "# EVALUATE AQUIFER DOGANELLA MODEL\n",
    "\n",
    "# Columns of interest\n",
    "columns_of_interest = ['Depth_to_Groundwater_Pozzo_1', 'Depth_to_Groundwater_Pozzo_2', 'Depth_to_Groundwater_Pozzo_3', 'Depth_to_Groundwater_Pozzo_4','Depth_to_Groundwater_Pozzo_5','Depth_to_Groundwater_Pozzo_6', 'Depth_to_Groundwater_Pozzo_7', 'Depth_to_Groundwater_Pozzo_8', 'Depth_to_Groundwater_Pozzo_9']\n",
    "\n",
    "# Initialize an empty dictionary to store MSE for each column\n",
    "mse_scores = {}\n",
    "\n",
    "# Loop over each column of interest to calculate MSE\n",
    "for column in columns_of_interest:\n",
    "    # Extract the true values from the test set and the predicted values\n",
    "    true_values = aquifer_doganella_test_df[column][:10]  # Only the first 5 values to match the forecast length\n",
    "    predicted_values = aquifer_doganella_predictions[column]\n",
    "    \n",
    "    # Calculate MSE and store it in the dictionary\n",
    "    mse = mean_squared_error(true_values, predicted_values)\n",
    "    mse_scores[column] = mse\n",
    "\n",
    "# Print MSE scores\n",
    "for column, mse in mse_scores.items():\n",
    "    print(f\"MSE for {column}: {mse}\")"
   ]
  },
  {
   "cell_type": "code",
   "execution_count": 32,
   "metadata": {},
   "outputs": [
    {
     "name": "stdout",
     "output_type": "stream",
     "text": [
      "2018-12-21   -7.680753\n",
      "2018-12-22   -7.674557\n",
      "2018-12-23   -7.558993\n",
      "2018-12-24   -7.664035\n",
      "2018-12-25   -7.667185\n",
      "2018-12-26   -7.616886\n",
      "2018-12-27   -7.615110\n",
      "2018-12-28   -7.562495\n",
      "2018-12-29   -7.587447\n",
      "2018-12-30   -7.490169\n",
      "Freq: D, Name: Depth_to_Groundwater_Podere_Casetta, dtype: float64\n"
     ]
    },
    {
     "name": "stderr",
     "output_type": "stream",
     "text": [
      "/home/codespace/.python/current/lib/python3.10/site-packages/statsmodels/tsa/base/tsa_model.py:559: UserWarning: Parsing dates in %d/%m/%Y format when dayfirst=False (the default) was specified. Pass `dayfirst=True` or specify a format to silence this warning.\n",
      "  _index = to_datetime(index)\n",
      "/home/codespace/.python/current/lib/python3.10/site-packages/statsmodels/tsa/base/tsa_model.py:473: ValueWarning: A date index has been provided, but it has no associated frequency information and so will be ignored when e.g. forecasting.\n",
      "  self._init_dates(dates, freq)\n"
     ]
    }
   ],
   "source": [
    "# AQUIFER LUCO\n",
    "\n",
    "\n",
    "# 1. Train the VAR model on the entire DataFrame\n",
    "aquifer_luco_model = VAR(aquifer_luco_df)\n",
    "aquifer_luco_model_fitted = aquifer_luco_model.fit(maxlags=15, ic='aic')  # Example: using AIC to select optimal lag\n",
    "\n",
    "# 2. Use the last 'lag_order' observations from the entire DataFrame for forecasting\n",
    "aquifer_luco_lag_order = aquifer_luco_model_fitted.k_ar\n",
    "aquifer_luco_last_obs = aquifer_luco_df.values[-aquifer_luco_lag_order:]\n",
    "\n",
    "# Forecast the next 10 steps using the entire dataset\n",
    "aquifer_luco_forecast = aquifer_luco_model_fitted.forecast(aquifer_luco_last_obs, steps=10)\n",
    "\n",
    "# 3. Generate the forecast index\n",
    "aquifer_luco_forecast_index = pd.date_range(start=aquifer_luco_train_df.index[-1], periods=10, freq='D')\n",
    "\n",
    "# Convert the forecast to a DataFrame for easier interpretation\n",
    "aquifer_luco_forecast_df = pd.DataFrame(aquifer_luco_forecast, index=aquifer_luco_forecast_index, columns=aquifer_luco_train_df.columns)\n",
    "\n",
    "# Extract forecasts for the variables of interest\n",
    "aquifer_luco_predictions = aquifer_luco_forecast_df['Depth_to_Groundwater_Podere_Casetta']\n",
    "print(aquifer_luco_predictions)"
   ]
  },
  {
   "cell_type": "code",
   "execution_count": 35,
   "metadata": {},
   "outputs": [
    {
     "name": "stdout",
     "output_type": "stream",
     "text": [
      "MSE for Depth_to_Groundwater_Podere_Casetta: 0.0036516317221499265\n"
     ]
    }
   ],
   "source": [
    "# EVALUATE AQUIFER LUCO MODEL\n",
    "\n",
    "# Column of interest\n",
    "column_of_interest = 'Depth_to_Groundwater_Podere_Casetta'\n",
    "\n",
    "# Extract the true values from the test set for the column of interest\n",
    "true_values = aquifer_luco_test_df[column_of_interest][:10]  # Assuming you want to match the forecast length\n",
    "\n",
    "# Since aquifer_luco_predictions is a Series, it already contains the predicted values\n",
    "predicted_values = aquifer_luco_predictions\n",
    "\n",
    "# Calculate MSE for the column of interest\n",
    "mse = mean_squared_error(true_values, predicted_values)\n",
    "\n",
    "# Print the MSE score for the column\n",
    "print(f\"MSE for {column_of_interest}: {mse}\")"
   ]
  }
 ],
 "metadata": {
  "kernelspec": {
   "display_name": "Python 3",
   "language": "python",
   "name": "python3"
  },
  "language_info": {
   "codemirror_mode": {
    "name": "ipython",
    "version": 3
   },
   "file_extension": ".py",
   "mimetype": "text/x-python",
   "name": "python",
   "nbconvert_exporter": "python",
   "pygments_lexer": "ipython3",
   "version": "3.10.13"
  }
 },
 "nbformat": 4,
 "nbformat_minor": 2
}
